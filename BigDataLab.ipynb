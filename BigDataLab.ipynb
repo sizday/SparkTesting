{
  "nbformat": 4,
  "nbformat_minor": 0,
  "metadata": {
    "colab": {
      "name": "BigDataLab.ipynb",
      "provenance": [],
      "collapsed_sections": [
        "p8G7mxf44-9B",
        "p0WAzbup5FCO",
        "pILX0YoT0l2m",
        "euiNIfqW2mK0",
        "xUB5cn1l1YhH",
        "-9a252Y35XgI"
      ]
    },
    "kernelspec": {
      "name": "python3",
      "display_name": "Python 3"
    },
    "language_info": {
      "name": "python"
    }
  },
  "cells": [
    {
      "cell_type": "markdown",
      "source": [
        "# Predict Future Sales"
      ],
      "metadata": {
        "id": "eNzc1vUijbGc"
      }
    },
    {
      "cell_type": "markdown",
      "source": [
        "## Data"
      ],
      "metadata": {
        "id": "dJ86-Y7vjmTJ"
      }
    },
    {
      "cell_type": "code",
      "source": [
        "!pip install pyspark"
      ],
      "metadata": {
        "colab": {
          "base_uri": "https://localhost:8080/"
        },
        "id": "F3Gr4e9DuYUc",
        "outputId": "57641a1b-143e-4415-a049-ed3f8c27fe1c"
      },
      "execution_count": null,
      "outputs": [
        {
          "output_type": "stream",
          "name": "stdout",
          "text": [
            "Requirement already satisfied: pyspark in /usr/local/lib/python3.7/dist-packages (3.2.0)\n",
            "Requirement already satisfied: py4j==0.10.9.2 in /usr/local/lib/python3.7/dist-packages (from pyspark) (0.10.9.2)\n"
          ]
        }
      ]
    },
    {
      "cell_type": "code",
      "execution_count": null,
      "metadata": {
        "id": "u_QR4sNfMYEQ"
      },
      "outputs": [],
      "source": [
        "import pandas as pd\n",
        "import numpy as np\n",
        "import matplotlib.pyplot as plt\n",
        "import warnings\n",
        "from google.colab import drive\n",
        "warnings.simplefilter('ignore')\n",
        "\n",
        "import seaborn as sns\n",
        "import sys\n",
        "import itertools\n",
        "import gc\n",
        "\n",
        "import csv\n",
        "from collections import OrderedDict\n",
        "from time import time\n",
        "import datetime\n",
        "\n",
        "from sklearn.preprocessing import LabelEncoder\n",
        "from sklearn.model_selection import train_test_split\n",
        "from sklearn.tree import DecisionTreeRegressor as DecisionTreeRegressorSklearn\n",
        "from sklearn.linear_model import LinearRegression as LinearRegressionSklearn\n",
        "from sklearn.metrics import mean_absolute_error, mean_squared_error, mean_squared_error, r2_score\n",
        "from sklearn.ensemble import ExtraTreesClassifier\n",
        "from sklearn.decomposition import PCA\n",
        "from matplotlib.pyplot import scatter\n",
        "from sklearn.ensemble import ExtraTreesClassifier\n",
        "\n",
        "from pyspark.ml.regression import DecisionTreeRegressor as DecisionTreeRegressorSpark\n",
        "from pyspark.ml.linalg import Vectors\n",
        "from pyspark.ml.feature import VectorAssembler\n",
        "from pyspark import SparkConf\n",
        "from pyspark.ml.regression import LinearRegression as LinearRegressionSpark\n",
        "from pyspark import SparkContext\n",
        "from pyspark.sql import SQLContext"
      ]
    },
    {
      "cell_type": "code",
      "source": [
        "conf = SparkConf()\n",
        "conf.set(\"spark.driver.memory\", \"4g\") \n",
        "conf.set(\"spark.driver.maxResultSize\", \"4g\")"
      ],
      "metadata": {
        "colab": {
          "base_uri": "https://localhost:8080/"
        },
        "id": "lDpvDdMj_A0A",
        "outputId": "8c9154f8-c731-4d91-ca8b-b1918fc05345"
      },
      "execution_count": null,
      "outputs": [
        {
          "output_type": "execute_result",
          "data": {
            "text/plain": [
              "<pyspark.conf.SparkConf at 0x7f8338e4cb50>"
            ]
          },
          "metadata": {},
          "execution_count": 4
        }
      ]
    },
    {
      "cell_type": "code",
      "source": [
        "PATH_TO_DATASET = '/content/drive/My Drive/DA/BigDataProject/'\n",
        "drive.mount('/content/drive')"
      ],
      "metadata": {
        "colab": {
          "base_uri": "https://localhost:8080/"
        },
        "id": "KCkcXn5MipvK",
        "outputId": "95fb0320-8320-4ce8-f3e2-d1075ec41f2a"
      },
      "execution_count": null,
      "outputs": [
        {
          "output_type": "stream",
          "name": "stdout",
          "text": [
            "Drive already mounted at /content/drive; to attempt to forcibly remount, call drive.mount(\"/content/drive\", force_remount=True).\n"
          ]
        }
      ]
    },
    {
      "cell_type": "code",
      "source": [
        "items = pd.read_csv(PATH_TO_DATASET + \"items.csv\")\n",
        "shops = pd.read_csv(PATH_TO_DATASET + \"shops.csv\")\n",
        "cats = pd.read_csv(PATH_TO_DATASET + \"item_categories.csv\")\n",
        "train = pd.read_csv(PATH_TO_DATASET + \"sales_train.csv\")\n",
        "test = pd.read_csv(PATH_TO_DATASET + \"test.csv\")"
      ],
      "metadata": {
        "id": "jVZQxBdwihrR"
      },
      "execution_count": null,
      "outputs": []
    },
    {
      "cell_type": "code",
      "source": [
        "train.shape"
      ],
      "metadata": {
        "colab": {
          "base_uri": "https://localhost:8080/"
        },
        "id": "6rF9xa1X-HVW",
        "outputId": "430b799e-4db9-4473-a94b-65a9904cac47"
      },
      "execution_count": null,
      "outputs": [
        {
          "output_type": "execute_result",
          "data": {
            "text/plain": [
              "(2935849, 6)"
            ]
          },
          "metadata": {},
          "execution_count": 7
        }
      ]
    },
    {
      "cell_type": "code",
      "source": [
        "train.head()"
      ],
      "metadata": {
        "colab": {
          "base_uri": "https://localhost:8080/"
        },
        "id": "qZ4eUlwekWq-",
        "outputId": "300b082f-cf4b-4cbd-e0e4-aa6c94e6ff1b"
      },
      "execution_count": null,
      "outputs": [
        {
          "output_type": "execute_result",
          "data": {
            "text/html": [
              "\n",
              "  <div id=\"df-45f4457e-0e2e-498c-a71e-5364947426eb\">\n",
              "    <div class=\"colab-df-container\">\n",
              "      <div>\n",
              "<style scoped>\n",
              "    .dataframe tbody tr th:only-of-type {\n",
              "        vertical-align: middle;\n",
              "    }\n",
              "\n",
              "    .dataframe tbody tr th {\n",
              "        vertical-align: top;\n",
              "    }\n",
              "\n",
              "    .dataframe thead th {\n",
              "        text-align: right;\n",
              "    }\n",
              "</style>\n",
              "<table border=\"1\" class=\"dataframe\">\n",
              "  <thead>\n",
              "    <tr style=\"text-align: right;\">\n",
              "      <th></th>\n",
              "      <th>date</th>\n",
              "      <th>date_block_num</th>\n",
              "      <th>shop_id</th>\n",
              "      <th>item_id</th>\n",
              "      <th>item_price</th>\n",
              "      <th>item_cnt_day</th>\n",
              "    </tr>\n",
              "  </thead>\n",
              "  <tbody>\n",
              "    <tr>\n",
              "      <th>0</th>\n",
              "      <td>02.01.2013</td>\n",
              "      <td>0</td>\n",
              "      <td>59</td>\n",
              "      <td>22154</td>\n",
              "      <td>999.00</td>\n",
              "      <td>1.0</td>\n",
              "    </tr>\n",
              "    <tr>\n",
              "      <th>1</th>\n",
              "      <td>03.01.2013</td>\n",
              "      <td>0</td>\n",
              "      <td>25</td>\n",
              "      <td>2552</td>\n",
              "      <td>899.00</td>\n",
              "      <td>1.0</td>\n",
              "    </tr>\n",
              "    <tr>\n",
              "      <th>2</th>\n",
              "      <td>05.01.2013</td>\n",
              "      <td>0</td>\n",
              "      <td>25</td>\n",
              "      <td>2552</td>\n",
              "      <td>899.00</td>\n",
              "      <td>-1.0</td>\n",
              "    </tr>\n",
              "    <tr>\n",
              "      <th>3</th>\n",
              "      <td>06.01.2013</td>\n",
              "      <td>0</td>\n",
              "      <td>25</td>\n",
              "      <td>2554</td>\n",
              "      <td>1709.05</td>\n",
              "      <td>1.0</td>\n",
              "    </tr>\n",
              "    <tr>\n",
              "      <th>4</th>\n",
              "      <td>15.01.2013</td>\n",
              "      <td>0</td>\n",
              "      <td>25</td>\n",
              "      <td>2555</td>\n",
              "      <td>1099.00</td>\n",
              "      <td>1.0</td>\n",
              "    </tr>\n",
              "  </tbody>\n",
              "</table>\n",
              "</div>\n",
              "      <button class=\"colab-df-convert\" onclick=\"convertToInteractive('df-45f4457e-0e2e-498c-a71e-5364947426eb')\"\n",
              "              title=\"Convert this dataframe to an interactive table.\"\n",
              "              style=\"display:none;\">\n",
              "        \n",
              "  <svg xmlns=\"http://www.w3.org/2000/svg\" height=\"24px\"viewBox=\"0 0 24 24\"\n",
              "       width=\"24px\">\n",
              "    <path d=\"M0 0h24v24H0V0z\" fill=\"none\"/>\n",
              "    <path d=\"M18.56 5.44l.94 2.06.94-2.06 2.06-.94-2.06-.94-.94-2.06-.94 2.06-2.06.94zm-11 1L8.5 8.5l.94-2.06 2.06-.94-2.06-.94L8.5 2.5l-.94 2.06-2.06.94zm10 10l.94 2.06.94-2.06 2.06-.94-2.06-.94-.94-2.06-.94 2.06-2.06.94z\"/><path d=\"M17.41 7.96l-1.37-1.37c-.4-.4-.92-.59-1.43-.59-.52 0-1.04.2-1.43.59L10.3 9.45l-7.72 7.72c-.78.78-.78 2.05 0 2.83L4 21.41c.39.39.9.59 1.41.59.51 0 1.02-.2 1.41-.59l7.78-7.78 2.81-2.81c.8-.78.8-2.07 0-2.86zM5.41 20L4 18.59l7.72-7.72 1.47 1.35L5.41 20z\"/>\n",
              "  </svg>\n",
              "      </button>\n",
              "      \n",
              "  <style>\n",
              "    .colab-df-container {\n",
              "      display:flex;\n",
              "      flex-wrap:wrap;\n",
              "      gap: 12px;\n",
              "    }\n",
              "\n",
              "    .colab-df-convert {\n",
              "      background-color: #E8F0FE;\n",
              "      border: none;\n",
              "      border-radius: 50%;\n",
              "      cursor: pointer;\n",
              "      display: none;\n",
              "      fill: #1967D2;\n",
              "      height: 32px;\n",
              "      padding: 0 0 0 0;\n",
              "      width: 32px;\n",
              "    }\n",
              "\n",
              "    .colab-df-convert:hover {\n",
              "      background-color: #E2EBFA;\n",
              "      box-shadow: 0px 1px 2px rgba(60, 64, 67, 0.3), 0px 1px 3px 1px rgba(60, 64, 67, 0.15);\n",
              "      fill: #174EA6;\n",
              "    }\n",
              "\n",
              "    [theme=dark] .colab-df-convert {\n",
              "      background-color: #3B4455;\n",
              "      fill: #D2E3FC;\n",
              "    }\n",
              "\n",
              "    [theme=dark] .colab-df-convert:hover {\n",
              "      background-color: #434B5C;\n",
              "      box-shadow: 0px 1px 3px 1px rgba(0, 0, 0, 0.15);\n",
              "      filter: drop-shadow(0px 1px 2px rgba(0, 0, 0, 0.3));\n",
              "      fill: #FFFFFF;\n",
              "    }\n",
              "  </style>\n",
              "\n",
              "      <script>\n",
              "        const buttonEl =\n",
              "          document.querySelector('#df-45f4457e-0e2e-498c-a71e-5364947426eb button.colab-df-convert');\n",
              "        buttonEl.style.display =\n",
              "          google.colab.kernel.accessAllowed ? 'block' : 'none';\n",
              "\n",
              "        async function convertToInteractive(key) {\n",
              "          const element = document.querySelector('#df-45f4457e-0e2e-498c-a71e-5364947426eb');\n",
              "          const dataTable =\n",
              "            await google.colab.kernel.invokeFunction('convertToInteractive',\n",
              "                                                     [key], {});\n",
              "          if (!dataTable) return;\n",
              "\n",
              "          const docLinkHtml = 'Like what you see? Visit the ' +\n",
              "            '<a target=\"_blank\" href=https://colab.research.google.com/notebooks/data_table.ipynb>data table notebook</a>'\n",
              "            + ' to learn more about interactive tables.';\n",
              "          element.innerHTML = '';\n",
              "          dataTable['output_type'] = 'display_data';\n",
              "          await google.colab.output.renderOutput(dataTable, element);\n",
              "          const docLink = document.createElement('div');\n",
              "          docLink.innerHTML = docLinkHtml;\n",
              "          element.appendChild(docLink);\n",
              "        }\n",
              "      </script>\n",
              "    </div>\n",
              "  </div>\n",
              "  "
            ],
            "text/plain": [
              "         date  date_block_num  shop_id  item_id  item_price  item_cnt_day\n",
              "0  02.01.2013               0       59    22154      999.00           1.0\n",
              "1  03.01.2013               0       25     2552      899.00           1.0\n",
              "2  05.01.2013               0       25     2552      899.00          -1.0\n",
              "3  06.01.2013               0       25     2554     1709.05           1.0\n",
              "4  15.01.2013               0       25     2555     1099.00           1.0"
            ]
          },
          "metadata": {},
          "execution_count": 8
        }
      ]
    },
    {
      "cell_type": "code",
      "source": [
        "items.head()"
      ],
      "metadata": {
        "colab": {
          "base_uri": "https://localhost:8080/"
        },
        "id": "ldT4ZAQO3h57",
        "outputId": "b16a7377-70e1-47de-bf8f-7390c5bffb77"
      },
      "execution_count": null,
      "outputs": [
        {
          "output_type": "execute_result",
          "data": {
            "text/html": [
              "\n",
              "  <div id=\"df-1ecd82db-7126-4fb4-aeb3-ff7b366f0711\">\n",
              "    <div class=\"colab-df-container\">\n",
              "      <div>\n",
              "<style scoped>\n",
              "    .dataframe tbody tr th:only-of-type {\n",
              "        vertical-align: middle;\n",
              "    }\n",
              "\n",
              "    .dataframe tbody tr th {\n",
              "        vertical-align: top;\n",
              "    }\n",
              "\n",
              "    .dataframe thead th {\n",
              "        text-align: right;\n",
              "    }\n",
              "</style>\n",
              "<table border=\"1\" class=\"dataframe\">\n",
              "  <thead>\n",
              "    <tr style=\"text-align: right;\">\n",
              "      <th></th>\n",
              "      <th>item_name</th>\n",
              "      <th>item_id</th>\n",
              "      <th>item_category_id</th>\n",
              "    </tr>\n",
              "  </thead>\n",
              "  <tbody>\n",
              "    <tr>\n",
              "      <th>0</th>\n",
              "      <td>! ВО ВЛАСТИ НАВАЖДЕНИЯ (ПЛАСТ.)         D</td>\n",
              "      <td>0</td>\n",
              "      <td>40</td>\n",
              "    </tr>\n",
              "    <tr>\n",
              "      <th>1</th>\n",
              "      <td>!ABBYY FineReader 12 Professional Edition Full...</td>\n",
              "      <td>1</td>\n",
              "      <td>76</td>\n",
              "    </tr>\n",
              "    <tr>\n",
              "      <th>2</th>\n",
              "      <td>***В ЛУЧАХ СЛАВЫ   (UNV)                    D</td>\n",
              "      <td>2</td>\n",
              "      <td>40</td>\n",
              "    </tr>\n",
              "    <tr>\n",
              "      <th>3</th>\n",
              "      <td>***ГОЛУБАЯ ВОЛНА  (Univ)                      D</td>\n",
              "      <td>3</td>\n",
              "      <td>40</td>\n",
              "    </tr>\n",
              "    <tr>\n",
              "      <th>4</th>\n",
              "      <td>***КОРОБКА (СТЕКЛО)                       D</td>\n",
              "      <td>4</td>\n",
              "      <td>40</td>\n",
              "    </tr>\n",
              "  </tbody>\n",
              "</table>\n",
              "</div>\n",
              "      <button class=\"colab-df-convert\" onclick=\"convertToInteractive('df-1ecd82db-7126-4fb4-aeb3-ff7b366f0711')\"\n",
              "              title=\"Convert this dataframe to an interactive table.\"\n",
              "              style=\"display:none;\">\n",
              "        \n",
              "  <svg xmlns=\"http://www.w3.org/2000/svg\" height=\"24px\"viewBox=\"0 0 24 24\"\n",
              "       width=\"24px\">\n",
              "    <path d=\"M0 0h24v24H0V0z\" fill=\"none\"/>\n",
              "    <path d=\"M18.56 5.44l.94 2.06.94-2.06 2.06-.94-2.06-.94-.94-2.06-.94 2.06-2.06.94zm-11 1L8.5 8.5l.94-2.06 2.06-.94-2.06-.94L8.5 2.5l-.94 2.06-2.06.94zm10 10l.94 2.06.94-2.06 2.06-.94-2.06-.94-.94-2.06-.94 2.06-2.06.94z\"/><path d=\"M17.41 7.96l-1.37-1.37c-.4-.4-.92-.59-1.43-.59-.52 0-1.04.2-1.43.59L10.3 9.45l-7.72 7.72c-.78.78-.78 2.05 0 2.83L4 21.41c.39.39.9.59 1.41.59.51 0 1.02-.2 1.41-.59l7.78-7.78 2.81-2.81c.8-.78.8-2.07 0-2.86zM5.41 20L4 18.59l7.72-7.72 1.47 1.35L5.41 20z\"/>\n",
              "  </svg>\n",
              "      </button>\n",
              "      \n",
              "  <style>\n",
              "    .colab-df-container {\n",
              "      display:flex;\n",
              "      flex-wrap:wrap;\n",
              "      gap: 12px;\n",
              "    }\n",
              "\n",
              "    .colab-df-convert {\n",
              "      background-color: #E8F0FE;\n",
              "      border: none;\n",
              "      border-radius: 50%;\n",
              "      cursor: pointer;\n",
              "      display: none;\n",
              "      fill: #1967D2;\n",
              "      height: 32px;\n",
              "      padding: 0 0 0 0;\n",
              "      width: 32px;\n",
              "    }\n",
              "\n",
              "    .colab-df-convert:hover {\n",
              "      background-color: #E2EBFA;\n",
              "      box-shadow: 0px 1px 2px rgba(60, 64, 67, 0.3), 0px 1px 3px 1px rgba(60, 64, 67, 0.15);\n",
              "      fill: #174EA6;\n",
              "    }\n",
              "\n",
              "    [theme=dark] .colab-df-convert {\n",
              "      background-color: #3B4455;\n",
              "      fill: #D2E3FC;\n",
              "    }\n",
              "\n",
              "    [theme=dark] .colab-df-convert:hover {\n",
              "      background-color: #434B5C;\n",
              "      box-shadow: 0px 1px 3px 1px rgba(0, 0, 0, 0.15);\n",
              "      filter: drop-shadow(0px 1px 2px rgba(0, 0, 0, 0.3));\n",
              "      fill: #FFFFFF;\n",
              "    }\n",
              "  </style>\n",
              "\n",
              "      <script>\n",
              "        const buttonEl =\n",
              "          document.querySelector('#df-1ecd82db-7126-4fb4-aeb3-ff7b366f0711 button.colab-df-convert');\n",
              "        buttonEl.style.display =\n",
              "          google.colab.kernel.accessAllowed ? 'block' : 'none';\n",
              "\n",
              "        async function convertToInteractive(key) {\n",
              "          const element = document.querySelector('#df-1ecd82db-7126-4fb4-aeb3-ff7b366f0711');\n",
              "          const dataTable =\n",
              "            await google.colab.kernel.invokeFunction('convertToInteractive',\n",
              "                                                     [key], {});\n",
              "          if (!dataTable) return;\n",
              "\n",
              "          const docLinkHtml = 'Like what you see? Visit the ' +\n",
              "            '<a target=\"_blank\" href=https://colab.research.google.com/notebooks/data_table.ipynb>data table notebook</a>'\n",
              "            + ' to learn more about interactive tables.';\n",
              "          element.innerHTML = '';\n",
              "          dataTable['output_type'] = 'display_data';\n",
              "          await google.colab.output.renderOutput(dataTable, element);\n",
              "          const docLink = document.createElement('div');\n",
              "          docLink.innerHTML = docLinkHtml;\n",
              "          element.appendChild(docLink);\n",
              "        }\n",
              "      </script>\n",
              "    </div>\n",
              "  </div>\n",
              "  "
            ],
            "text/plain": [
              "                                           item_name  item_id  item_category_id\n",
              "0          ! ВО ВЛАСТИ НАВАЖДЕНИЯ (ПЛАСТ.)         D        0                40\n",
              "1  !ABBYY FineReader 12 Professional Edition Full...        1                76\n",
              "2      ***В ЛУЧАХ СЛАВЫ   (UNV)                    D        2                40\n",
              "3    ***ГОЛУБАЯ ВОЛНА  (Univ)                      D        3                40\n",
              "4        ***КОРОБКА (СТЕКЛО)                       D        4                40"
            ]
          },
          "metadata": {},
          "execution_count": 9
        }
      ]
    },
    {
      "cell_type": "code",
      "source": [
        "cats.head()"
      ],
      "metadata": {
        "colab": {
          "base_uri": "https://localhost:8080/"
        },
        "id": "oyP7Bwzq3cij",
        "outputId": "eea6c3a7-6aed-44a9-d591-b7562a7b5351"
      },
      "execution_count": null,
      "outputs": [
        {
          "output_type": "execute_result",
          "data": {
            "text/html": [
              "\n",
              "  <div id=\"df-9d37bd35-67db-4ed3-9a96-bca56b9bb191\">\n",
              "    <div class=\"colab-df-container\">\n",
              "      <div>\n",
              "<style scoped>\n",
              "    .dataframe tbody tr th:only-of-type {\n",
              "        vertical-align: middle;\n",
              "    }\n",
              "\n",
              "    .dataframe tbody tr th {\n",
              "        vertical-align: top;\n",
              "    }\n",
              "\n",
              "    .dataframe thead th {\n",
              "        text-align: right;\n",
              "    }\n",
              "</style>\n",
              "<table border=\"1\" class=\"dataframe\">\n",
              "  <thead>\n",
              "    <tr style=\"text-align: right;\">\n",
              "      <th></th>\n",
              "      <th>item_category_name</th>\n",
              "      <th>item_category_id</th>\n",
              "    </tr>\n",
              "  </thead>\n",
              "  <tbody>\n",
              "    <tr>\n",
              "      <th>0</th>\n",
              "      <td>PC - Гарнитуры/Наушники</td>\n",
              "      <td>0</td>\n",
              "    </tr>\n",
              "    <tr>\n",
              "      <th>1</th>\n",
              "      <td>Аксессуары - PS2</td>\n",
              "      <td>1</td>\n",
              "    </tr>\n",
              "    <tr>\n",
              "      <th>2</th>\n",
              "      <td>Аксессуары - PS3</td>\n",
              "      <td>2</td>\n",
              "    </tr>\n",
              "    <tr>\n",
              "      <th>3</th>\n",
              "      <td>Аксессуары - PS4</td>\n",
              "      <td>3</td>\n",
              "    </tr>\n",
              "    <tr>\n",
              "      <th>4</th>\n",
              "      <td>Аксессуары - PSP</td>\n",
              "      <td>4</td>\n",
              "    </tr>\n",
              "  </tbody>\n",
              "</table>\n",
              "</div>\n",
              "      <button class=\"colab-df-convert\" onclick=\"convertToInteractive('df-9d37bd35-67db-4ed3-9a96-bca56b9bb191')\"\n",
              "              title=\"Convert this dataframe to an interactive table.\"\n",
              "              style=\"display:none;\">\n",
              "        \n",
              "  <svg xmlns=\"http://www.w3.org/2000/svg\" height=\"24px\"viewBox=\"0 0 24 24\"\n",
              "       width=\"24px\">\n",
              "    <path d=\"M0 0h24v24H0V0z\" fill=\"none\"/>\n",
              "    <path d=\"M18.56 5.44l.94 2.06.94-2.06 2.06-.94-2.06-.94-.94-2.06-.94 2.06-2.06.94zm-11 1L8.5 8.5l.94-2.06 2.06-.94-2.06-.94L8.5 2.5l-.94 2.06-2.06.94zm10 10l.94 2.06.94-2.06 2.06-.94-2.06-.94-.94-2.06-.94 2.06-2.06.94z\"/><path d=\"M17.41 7.96l-1.37-1.37c-.4-.4-.92-.59-1.43-.59-.52 0-1.04.2-1.43.59L10.3 9.45l-7.72 7.72c-.78.78-.78 2.05 0 2.83L4 21.41c.39.39.9.59 1.41.59.51 0 1.02-.2 1.41-.59l7.78-7.78 2.81-2.81c.8-.78.8-2.07 0-2.86zM5.41 20L4 18.59l7.72-7.72 1.47 1.35L5.41 20z\"/>\n",
              "  </svg>\n",
              "      </button>\n",
              "      \n",
              "  <style>\n",
              "    .colab-df-container {\n",
              "      display:flex;\n",
              "      flex-wrap:wrap;\n",
              "      gap: 12px;\n",
              "    }\n",
              "\n",
              "    .colab-df-convert {\n",
              "      background-color: #E8F0FE;\n",
              "      border: none;\n",
              "      border-radius: 50%;\n",
              "      cursor: pointer;\n",
              "      display: none;\n",
              "      fill: #1967D2;\n",
              "      height: 32px;\n",
              "      padding: 0 0 0 0;\n",
              "      width: 32px;\n",
              "    }\n",
              "\n",
              "    .colab-df-convert:hover {\n",
              "      background-color: #E2EBFA;\n",
              "      box-shadow: 0px 1px 2px rgba(60, 64, 67, 0.3), 0px 1px 3px 1px rgba(60, 64, 67, 0.15);\n",
              "      fill: #174EA6;\n",
              "    }\n",
              "\n",
              "    [theme=dark] .colab-df-convert {\n",
              "      background-color: #3B4455;\n",
              "      fill: #D2E3FC;\n",
              "    }\n",
              "\n",
              "    [theme=dark] .colab-df-convert:hover {\n",
              "      background-color: #434B5C;\n",
              "      box-shadow: 0px 1px 3px 1px rgba(0, 0, 0, 0.15);\n",
              "      filter: drop-shadow(0px 1px 2px rgba(0, 0, 0, 0.3));\n",
              "      fill: #FFFFFF;\n",
              "    }\n",
              "  </style>\n",
              "\n",
              "      <script>\n",
              "        const buttonEl =\n",
              "          document.querySelector('#df-9d37bd35-67db-4ed3-9a96-bca56b9bb191 button.colab-df-convert');\n",
              "        buttonEl.style.display =\n",
              "          google.colab.kernel.accessAllowed ? 'block' : 'none';\n",
              "\n",
              "        async function convertToInteractive(key) {\n",
              "          const element = document.querySelector('#df-9d37bd35-67db-4ed3-9a96-bca56b9bb191');\n",
              "          const dataTable =\n",
              "            await google.colab.kernel.invokeFunction('convertToInteractive',\n",
              "                                                     [key], {});\n",
              "          if (!dataTable) return;\n",
              "\n",
              "          const docLinkHtml = 'Like what you see? Visit the ' +\n",
              "            '<a target=\"_blank\" href=https://colab.research.google.com/notebooks/data_table.ipynb>data table notebook</a>'\n",
              "            + ' to learn more about interactive tables.';\n",
              "          element.innerHTML = '';\n",
              "          dataTable['output_type'] = 'display_data';\n",
              "          await google.colab.output.renderOutput(dataTable, element);\n",
              "          const docLink = document.createElement('div');\n",
              "          docLink.innerHTML = docLinkHtml;\n",
              "          element.appendChild(docLink);\n",
              "        }\n",
              "      </script>\n",
              "    </div>\n",
              "  </div>\n",
              "  "
            ],
            "text/plain": [
              "        item_category_name  item_category_id\n",
              "0  PC - Гарнитуры/Наушники                 0\n",
              "1         Аксессуары - PS2                 1\n",
              "2         Аксессуары - PS3                 2\n",
              "3         Аксессуары - PS4                 3\n",
              "4         Аксессуары - PSP                 4"
            ]
          },
          "metadata": {},
          "execution_count": 10
        }
      ]
    },
    {
      "cell_type": "code",
      "source": [
        "shops.head()"
      ],
      "metadata": {
        "colab": {
          "base_uri": "https://localhost:8080/"
        },
        "id": "AioTcjt-3X6-",
        "outputId": "7fd82cd8-1e1b-4b0f-eab0-3f057bff5a0c"
      },
      "execution_count": null,
      "outputs": [
        {
          "output_type": "execute_result",
          "data": {
            "text/html": [
              "\n",
              "  <div id=\"df-ba032c08-8dac-42e3-9f25-54763af72d5a\">\n",
              "    <div class=\"colab-df-container\">\n",
              "      <div>\n",
              "<style scoped>\n",
              "    .dataframe tbody tr th:only-of-type {\n",
              "        vertical-align: middle;\n",
              "    }\n",
              "\n",
              "    .dataframe tbody tr th {\n",
              "        vertical-align: top;\n",
              "    }\n",
              "\n",
              "    .dataframe thead th {\n",
              "        text-align: right;\n",
              "    }\n",
              "</style>\n",
              "<table border=\"1\" class=\"dataframe\">\n",
              "  <thead>\n",
              "    <tr style=\"text-align: right;\">\n",
              "      <th></th>\n",
              "      <th>shop_name</th>\n",
              "      <th>shop_id</th>\n",
              "    </tr>\n",
              "  </thead>\n",
              "  <tbody>\n",
              "    <tr>\n",
              "      <th>0</th>\n",
              "      <td>!Якутск Орджоникидзе, 56 фран</td>\n",
              "      <td>0</td>\n",
              "    </tr>\n",
              "    <tr>\n",
              "      <th>1</th>\n",
              "      <td>!Якутск ТЦ \"Центральный\" фран</td>\n",
              "      <td>1</td>\n",
              "    </tr>\n",
              "    <tr>\n",
              "      <th>2</th>\n",
              "      <td>Адыгея ТЦ \"Мега\"</td>\n",
              "      <td>2</td>\n",
              "    </tr>\n",
              "    <tr>\n",
              "      <th>3</th>\n",
              "      <td>Балашиха ТРК \"Октябрь-Киномир\"</td>\n",
              "      <td>3</td>\n",
              "    </tr>\n",
              "    <tr>\n",
              "      <th>4</th>\n",
              "      <td>Волжский ТЦ \"Волга Молл\"</td>\n",
              "      <td>4</td>\n",
              "    </tr>\n",
              "  </tbody>\n",
              "</table>\n",
              "</div>\n",
              "      <button class=\"colab-df-convert\" onclick=\"convertToInteractive('df-ba032c08-8dac-42e3-9f25-54763af72d5a')\"\n",
              "              title=\"Convert this dataframe to an interactive table.\"\n",
              "              style=\"display:none;\">\n",
              "        \n",
              "  <svg xmlns=\"http://www.w3.org/2000/svg\" height=\"24px\"viewBox=\"0 0 24 24\"\n",
              "       width=\"24px\">\n",
              "    <path d=\"M0 0h24v24H0V0z\" fill=\"none\"/>\n",
              "    <path d=\"M18.56 5.44l.94 2.06.94-2.06 2.06-.94-2.06-.94-.94-2.06-.94 2.06-2.06.94zm-11 1L8.5 8.5l.94-2.06 2.06-.94-2.06-.94L8.5 2.5l-.94 2.06-2.06.94zm10 10l.94 2.06.94-2.06 2.06-.94-2.06-.94-.94-2.06-.94 2.06-2.06.94z\"/><path d=\"M17.41 7.96l-1.37-1.37c-.4-.4-.92-.59-1.43-.59-.52 0-1.04.2-1.43.59L10.3 9.45l-7.72 7.72c-.78.78-.78 2.05 0 2.83L4 21.41c.39.39.9.59 1.41.59.51 0 1.02-.2 1.41-.59l7.78-7.78 2.81-2.81c.8-.78.8-2.07 0-2.86zM5.41 20L4 18.59l7.72-7.72 1.47 1.35L5.41 20z\"/>\n",
              "  </svg>\n",
              "      </button>\n",
              "      \n",
              "  <style>\n",
              "    .colab-df-container {\n",
              "      display:flex;\n",
              "      flex-wrap:wrap;\n",
              "      gap: 12px;\n",
              "    }\n",
              "\n",
              "    .colab-df-convert {\n",
              "      background-color: #E8F0FE;\n",
              "      border: none;\n",
              "      border-radius: 50%;\n",
              "      cursor: pointer;\n",
              "      display: none;\n",
              "      fill: #1967D2;\n",
              "      height: 32px;\n",
              "      padding: 0 0 0 0;\n",
              "      width: 32px;\n",
              "    }\n",
              "\n",
              "    .colab-df-convert:hover {\n",
              "      background-color: #E2EBFA;\n",
              "      box-shadow: 0px 1px 2px rgba(60, 64, 67, 0.3), 0px 1px 3px 1px rgba(60, 64, 67, 0.15);\n",
              "      fill: #174EA6;\n",
              "    }\n",
              "\n",
              "    [theme=dark] .colab-df-convert {\n",
              "      background-color: #3B4455;\n",
              "      fill: #D2E3FC;\n",
              "    }\n",
              "\n",
              "    [theme=dark] .colab-df-convert:hover {\n",
              "      background-color: #434B5C;\n",
              "      box-shadow: 0px 1px 3px 1px rgba(0, 0, 0, 0.15);\n",
              "      filter: drop-shadow(0px 1px 2px rgba(0, 0, 0, 0.3));\n",
              "      fill: #FFFFFF;\n",
              "    }\n",
              "  </style>\n",
              "\n",
              "      <script>\n",
              "        const buttonEl =\n",
              "          document.querySelector('#df-ba032c08-8dac-42e3-9f25-54763af72d5a button.colab-df-convert');\n",
              "        buttonEl.style.display =\n",
              "          google.colab.kernel.accessAllowed ? 'block' : 'none';\n",
              "\n",
              "        async function convertToInteractive(key) {\n",
              "          const element = document.querySelector('#df-ba032c08-8dac-42e3-9f25-54763af72d5a');\n",
              "          const dataTable =\n",
              "            await google.colab.kernel.invokeFunction('convertToInteractive',\n",
              "                                                     [key], {});\n",
              "          if (!dataTable) return;\n",
              "\n",
              "          const docLinkHtml = 'Like what you see? Visit the ' +\n",
              "            '<a target=\"_blank\" href=https://colab.research.google.com/notebooks/data_table.ipynb>data table notebook</a>'\n",
              "            + ' to learn more about interactive tables.';\n",
              "          element.innerHTML = '';\n",
              "          dataTable['output_type'] = 'display_data';\n",
              "          await google.colab.output.renderOutput(dataTable, element);\n",
              "          const docLink = document.createElement('div');\n",
              "          docLink.innerHTML = docLinkHtml;\n",
              "          element.appendChild(docLink);\n",
              "        }\n",
              "      </script>\n",
              "    </div>\n",
              "  </div>\n",
              "  "
            ],
            "text/plain": [
              "                        shop_name  shop_id\n",
              "0   !Якутск Орджоникидзе, 56 фран        0\n",
              "1   !Якутск ТЦ \"Центральный\" фран        1\n",
              "2                Адыгея ТЦ \"Мега\"        2\n",
              "3  Балашиха ТРК \"Октябрь-Киномир\"        3\n",
              "4        Волжский ТЦ \"Волга Молл\"        4"
            ]
          },
          "metadata": {},
          "execution_count": 11
        }
      ]
    },
    {
      "cell_type": "markdown",
      "source": [
        "## Data Preprocessing"
      ],
      "metadata": {
        "id": "AXMDG4lKjuBD"
      }
    },
    {
      "cell_type": "markdown",
      "source": [
        "### Prepare Data"
      ],
      "metadata": {
        "id": "p8G7mxf44-9B"
      }
    },
    {
      "cell_type": "markdown",
      "source": [
        "\n",
        "\n",
        "*   Изменение формата даты\n",
        "*   Объединение одиннаковых магазинов\n",
        "*   Оставим только магазины, которые встречаются в тестовой выборке\n",
        "*   Выкинем ошибочные транзакции\n",
        "\n"
      ],
      "metadata": {
        "id": "EmgIljw2kuPS"
      }
    },
    {
      "cell_type": "code",
      "source": [
        "train[\"date\"] = pd.to_datetime(train[\"date\"], format=\"%d.%m.%Y\")\n",
        "train[\"shop_id\"] = train[\"shop_id\"].replace({0: 57, 1: 58, 11: 10, 40: 39})\n",
        "train = train.loc[train.shop_id.isin(test[\"shop_id\"].unique()), :]\n",
        "train = train[(train[\"item_price\"] > 0) & (train[\"item_price\"] < 50000)]\n",
        "train = train[(train[\"item_cnt_day\"] > 0) & (train[\"item_cnt_day\"] < 1000)]"
      ],
      "metadata": {
        "id": "3_NV4RPojvRT"
      },
      "execution_count": null,
      "outputs": []
    },
    {
      "cell_type": "markdown",
      "source": [
        "Преобразуем города с помощью LabelEncoder"
      ],
      "metadata": {
        "id": "Q26XXb2Wk7Gk"
      }
    },
    {
      "cell_type": "code",
      "source": [
        "shops['city'] = shops['shop_name'].apply(lambda x: x.split()[0])\n",
        "shops.loc[shops['city'] =='!Якутск', 'city'] = 'Якутск'\n",
        "\n",
        "label_encoder = LabelEncoder()\n",
        "shops['city'] = label_encoder.fit_transform(shops['city'])"
      ],
      "metadata": {
        "id": "V4Hh_Y8_j0F5"
      },
      "execution_count": null,
      "outputs": []
    },
    {
      "cell_type": "markdown",
      "source": [
        "\n",
        "\n",
        "*   Создадим новое поле \"первая дата покупки\"\n",
        "*   Удалим нулевые значения из таблицы\n",
        "\n"
      ],
      "metadata": {
        "id": "__h41Nxnk_Yr"
      }
    },
    {
      "cell_type": "code",
      "source": [
        "items['first_sale_date'] = train.groupby('item_id').agg({'date_block_num': 'min'})['date_block_num']\n",
        "items = items.apply(lambda x: x.fillna(x.median()) if x.dtype != \"O\" else x, axis=0)"
      ],
      "metadata": {
        "id": "6QygsKoyj2dT"
      },
      "execution_count": null,
      "outputs": []
    },
    {
      "cell_type": "markdown",
      "source": [
        "Разделим имя категории на отдельные поля типа и подтипа"
      ],
      "metadata": {
        "id": "qFdYsz-H304U"
      }
    },
    {
      "cell_type": "code",
      "source": [
        "cats['split'] = cats['item_category_name'].str.split('-')\n",
        "cats['type'] = cats['split'].map(lambda x: x[0].strip())\n",
        "cats['type_code'] = LabelEncoder().fit_transform(cats['type'])\n",
        "cats['subtype'] = cats['split'].map(lambda x: x[1].strip() if len(x) > 1 else x[0].strip())\n",
        "cats['subtype_code'] = LabelEncoder().fit_transform(cats['subtype'])\n",
        "cats = cats[['item_category_id','type_code', 'subtype_code']]"
      ],
      "metadata": {
        "id": "axwWpLp7j5Iy"
      },
      "execution_count": null,
      "outputs": []
    },
    {
      "cell_type": "markdown",
      "source": [
        "Объединим данные из разных таблиц"
      ],
      "metadata": {
        "id": "aaG-9D0blOr8"
      }
    },
    {
      "cell_type": "code",
      "source": [
        "train = train.merge(shops, on='shop_id', how='left')\n",
        "train = train.merge(items, on='item_id', how='left')\n",
        "train = train.merge(cats, on='item_category_id', how='left')\n",
        "test = test.merge(shops, on='shop_id', how='left')\n",
        "test = test.merge(items, on='item_id', how='left')\n",
        "test = test.merge(cats, on='item_category_id', how='left')"
      ],
      "metadata": {
        "id": "8sJLGhTaj7Fq"
      },
      "execution_count": null,
      "outputs": []
    },
    {
      "cell_type": "code",
      "source": [
        "test[\"date_block_num\"] = 34\n",
        "test[\"date_block_num\"] = test[\"date_block_num\"].astype(np.int8)\n",
        "test[\"shop_id\"] = test.shop_id.astype(np.int8)\n",
        "test[\"item_id\"] = test.item_id.astype(np.int16)\n",
        "test = test.drop(columns=\"ID\")"
      ],
      "metadata": {
        "id": "0Zp3t7mrj8Z5"
      },
      "execution_count": null,
      "outputs": []
    },
    {
      "cell_type": "code",
      "source": [
        "df = pd.concat([train, test])\n",
        "group = train.groupby(['date_block_num','shop_id','item_id']).agg({'item_cnt_day': ['sum']})\n",
        "group.columns = ['item_cnt_month']\n",
        "group.reset_index(inplace=True)\n",
        "\n",
        "df = df.merge(group, on=['date_block_num','shop_id','item_id'], how='left')\n",
        "df['item_cnt_month'] = (df['item_cnt_month']\n",
        "                                .fillna(0)\n",
        "                                .clip(0,20) \n",
        "                                .astype(np.float16))\n",
        "df = df.drop(['date','shop_name','item_name','item_cnt_day'], axis=1)"
      ],
      "metadata": {
        "id": "Bmu_NCuyj_fp"
      },
      "execution_count": null,
      "outputs": []
    },
    {
      "cell_type": "code",
      "source": [
        "def add_mean(df, idx_features):\n",
        "    assert (idx_features[0] == 'date_block_num') and \\\n",
        "           len(idx_features) in [2, 3]\n",
        "    \n",
        "    if len(idx_features) == 2:\n",
        "        feature_name = idx_features[1] + '_mean_sales'\n",
        "    else:\n",
        "        feature_name = idx_features[1] + '_' + idx_features[2] + '_mean_sales'\n",
        "    \n",
        "    group = df.groupby(idx_features).agg({'item_cnt_month': 'mean'})\n",
        "    group = group.reset_index()\n",
        "    group = group.rename(columns={'item_cnt_month': feature_name})\n",
        "    \n",
        "    df = df.merge(group, on=idx_features, how='left')\n",
        "    \n",
        "    return df"
      ],
      "metadata": {
        "id": "HmyyOp5DkEUS"
      },
      "execution_count": null,
      "outputs": []
    },
    {
      "cell_type": "markdown",
      "source": [
        "Добавим столбцы со средними значениями по дате"
      ],
      "metadata": {
        "id": "FI5o3M8BlUcV"
      }
    },
    {
      "cell_type": "code",
      "source": [
        "df = add_mean(df=df, idx_features=['date_block_num', 'item_id'])\n",
        "df = add_mean(df=df, idx_features=['date_block_num', 'shop_id'])\n",
        "df = add_mean(df=df, idx_features=['date_block_num', 'item_category_id'])\n",
        "df = add_mean(df=df, idx_features=['date_block_num', 'item_id', 'city'])\n",
        "df = add_mean(df=df, idx_features=['date_block_num', 'shop_id', 'item_category_id'])\n",
        "df = add_mean(df=df, idx_features=['date_block_num', 'shop_id', 'subtype_code'])"
      ],
      "metadata": {
        "id": "wRTNOfTXkJf5"
      },
      "execution_count": null,
      "outputs": []
    },
    {
      "cell_type": "code",
      "source": [
        "df['duration_after_first_sale'] = df['date_block_num'] - df['first_sale_date']\n",
        "df['month'] = df['date_block_num']%12"
      ],
      "metadata": {
        "id": "gAyqiBSLkK0r"
      },
      "execution_count": null,
      "outputs": []
    },
    {
      "cell_type": "markdown",
      "source": [
        "### Final Dataset"
      ],
      "metadata": {
        "id": "p0WAzbup5FCO"
      }
    },
    {
      "cell_type": "markdown",
      "source": [
        "Итоговый датасет для обучения имеет вид"
      ],
      "metadata": {
        "id": "ccAfgdxtlf67"
      }
    },
    {
      "cell_type": "code",
      "source": [
        "df.head(10)"
      ],
      "metadata": {
        "id": "3CJENKA1kMTB",
        "colab": {
          "base_uri": "https://localhost:8080/"
        },
        "outputId": "0559f0d2-1304-4235-cfeb-e956115cc33a"
      },
      "execution_count": null,
      "outputs": [
        {
          "output_type": "execute_result",
          "data": {
            "text/html": [
              "\n",
              "  <div id=\"df-f1d9c78b-025e-4c17-a1dd-602834cfc4a3\">\n",
              "    <div class=\"colab-df-container\">\n",
              "      <div>\n",
              "<style scoped>\n",
              "    .dataframe tbody tr th:only-of-type {\n",
              "        vertical-align: middle;\n",
              "    }\n",
              "\n",
              "    .dataframe tbody tr th {\n",
              "        vertical-align: top;\n",
              "    }\n",
              "\n",
              "    .dataframe thead th {\n",
              "        text-align: right;\n",
              "    }\n",
              "</style>\n",
              "<table border=\"1\" class=\"dataframe\">\n",
              "  <thead>\n",
              "    <tr style=\"text-align: right;\">\n",
              "      <th></th>\n",
              "      <th>date_block_num</th>\n",
              "      <th>shop_id</th>\n",
              "      <th>item_id</th>\n",
              "      <th>item_price</th>\n",
              "      <th>city</th>\n",
              "      <th>item_category_id</th>\n",
              "      <th>first_sale_date</th>\n",
              "      <th>type_code</th>\n",
              "      <th>subtype_code</th>\n",
              "      <th>item_cnt_month</th>\n",
              "      <th>item_id_mean_sales</th>\n",
              "      <th>shop_id_mean_sales</th>\n",
              "      <th>item_category_id_mean_sales</th>\n",
              "      <th>item_id_city_mean_sales</th>\n",
              "      <th>shop_id_item_category_id_mean_sales</th>\n",
              "      <th>shop_id_subtype_code_mean_sales</th>\n",
              "      <th>duration_after_first_sale</th>\n",
              "      <th>month</th>\n",
              "    </tr>\n",
              "  </thead>\n",
              "  <tbody>\n",
              "    <tr>\n",
              "      <th>0</th>\n",
              "      <td>0</td>\n",
              "      <td>59</td>\n",
              "      <td>22154</td>\n",
              "      <td>999.00</td>\n",
              "      <td>30</td>\n",
              "      <td>37</td>\n",
              "      <td>0.0</td>\n",
              "      <td>11</td>\n",
              "      <td>1</td>\n",
              "      <td>1.0</td>\n",
              "      <td>2.250000</td>\n",
              "      <td>3.855469</td>\n",
              "      <td>2.447266</td>\n",
              "      <td>1.000000</td>\n",
              "      <td>1.253906</td>\n",
              "      <td>1.205078</td>\n",
              "      <td>0.0</td>\n",
              "      <td>0</td>\n",
              "    </tr>\n",
              "    <tr>\n",
              "      <th>1</th>\n",
              "      <td>0</td>\n",
              "      <td>25</td>\n",
              "      <td>2552</td>\n",
              "      <td>899.00</td>\n",
              "      <td>13</td>\n",
              "      <td>58</td>\n",
              "      <td>0.0</td>\n",
              "      <td>13</td>\n",
              "      <td>27</td>\n",
              "      <td>1.0</td>\n",
              "      <td>1.000000</td>\n",
              "      <td>5.871094</td>\n",
              "      <td>1.215820</td>\n",
              "      <td>1.000000</td>\n",
              "      <td>1.395508</td>\n",
              "      <td>1.395508</td>\n",
              "      <td>0.0</td>\n",
              "      <td>0</td>\n",
              "    </tr>\n",
              "    <tr>\n",
              "      <th>2</th>\n",
              "      <td>0</td>\n",
              "      <td>25</td>\n",
              "      <td>2554</td>\n",
              "      <td>1709.05</td>\n",
              "      <td>13</td>\n",
              "      <td>58</td>\n",
              "      <td>0.0</td>\n",
              "      <td>13</td>\n",
              "      <td>27</td>\n",
              "      <td>1.0</td>\n",
              "      <td>1.000000</td>\n",
              "      <td>5.871094</td>\n",
              "      <td>1.215820</td>\n",
              "      <td>1.000000</td>\n",
              "      <td>1.395508</td>\n",
              "      <td>1.395508</td>\n",
              "      <td>0.0</td>\n",
              "      <td>0</td>\n",
              "    </tr>\n",
              "    <tr>\n",
              "      <th>3</th>\n",
              "      <td>0</td>\n",
              "      <td>25</td>\n",
              "      <td>2555</td>\n",
              "      <td>1099.00</td>\n",
              "      <td>13</td>\n",
              "      <td>56</td>\n",
              "      <td>0.0</td>\n",
              "      <td>13</td>\n",
              "      <td>3</td>\n",
              "      <td>1.0</td>\n",
              "      <td>1.000000</td>\n",
              "      <td>5.871094</td>\n",
              "      <td>1.232422</td>\n",
              "      <td>1.000000</td>\n",
              "      <td>1.349609</td>\n",
              "      <td>1.349609</td>\n",
              "      <td>0.0</td>\n",
              "      <td>0</td>\n",
              "    </tr>\n",
              "    <tr>\n",
              "      <th>4</th>\n",
              "      <td>0</td>\n",
              "      <td>25</td>\n",
              "      <td>2564</td>\n",
              "      <td>349.00</td>\n",
              "      <td>13</td>\n",
              "      <td>59</td>\n",
              "      <td>0.0</td>\n",
              "      <td>13</td>\n",
              "      <td>40</td>\n",
              "      <td>1.0</td>\n",
              "      <td>1.000000</td>\n",
              "      <td>5.871094</td>\n",
              "      <td>1.343750</td>\n",
              "      <td>1.000000</td>\n",
              "      <td>1.371094</td>\n",
              "      <td>1.371094</td>\n",
              "      <td>0.0</td>\n",
              "      <td>0</td>\n",
              "    </tr>\n",
              "    <tr>\n",
              "      <th>5</th>\n",
              "      <td>0</td>\n",
              "      <td>25</td>\n",
              "      <td>2565</td>\n",
              "      <td>549.00</td>\n",
              "      <td>13</td>\n",
              "      <td>56</td>\n",
              "      <td>0.0</td>\n",
              "      <td>13</td>\n",
              "      <td>3</td>\n",
              "      <td>1.0</td>\n",
              "      <td>1.000000</td>\n",
              "      <td>5.871094</td>\n",
              "      <td>1.232422</td>\n",
              "      <td>1.000000</td>\n",
              "      <td>1.349609</td>\n",
              "      <td>1.349609</td>\n",
              "      <td>0.0</td>\n",
              "      <td>0</td>\n",
              "    </tr>\n",
              "    <tr>\n",
              "      <th>6</th>\n",
              "      <td>0</td>\n",
              "      <td>25</td>\n",
              "      <td>2572</td>\n",
              "      <td>239.00</td>\n",
              "      <td>13</td>\n",
              "      <td>55</td>\n",
              "      <td>0.0</td>\n",
              "      <td>13</td>\n",
              "      <td>2</td>\n",
              "      <td>2.0</td>\n",
              "      <td>2.000000</td>\n",
              "      <td>5.871094</td>\n",
              "      <td>2.150391</td>\n",
              "      <td>1.666992</td>\n",
              "      <td>4.039062</td>\n",
              "      <td>4.039062</td>\n",
              "      <td>0.0</td>\n",
              "      <td>0</td>\n",
              "    </tr>\n",
              "    <tr>\n",
              "      <th>7</th>\n",
              "      <td>0</td>\n",
              "      <td>25</td>\n",
              "      <td>2572</td>\n",
              "      <td>299.00</td>\n",
              "      <td>13</td>\n",
              "      <td>55</td>\n",
              "      <td>0.0</td>\n",
              "      <td>13</td>\n",
              "      <td>2</td>\n",
              "      <td>2.0</td>\n",
              "      <td>2.000000</td>\n",
              "      <td>5.871094</td>\n",
              "      <td>2.150391</td>\n",
              "      <td>1.666992</td>\n",
              "      <td>4.039062</td>\n",
              "      <td>4.039062</td>\n",
              "      <td>0.0</td>\n",
              "      <td>0</td>\n",
              "    </tr>\n",
              "    <tr>\n",
              "      <th>8</th>\n",
              "      <td>0</td>\n",
              "      <td>25</td>\n",
              "      <td>2573</td>\n",
              "      <td>299.00</td>\n",
              "      <td>13</td>\n",
              "      <td>55</td>\n",
              "      <td>0.0</td>\n",
              "      <td>13</td>\n",
              "      <td>2</td>\n",
              "      <td>3.0</td>\n",
              "      <td>1.599609</td>\n",
              "      <td>5.871094</td>\n",
              "      <td>2.150391</td>\n",
              "      <td>2.000000</td>\n",
              "      <td>4.039062</td>\n",
              "      <td>4.039062</td>\n",
              "      <td>0.0</td>\n",
              "      <td>0</td>\n",
              "    </tr>\n",
              "    <tr>\n",
              "      <th>9</th>\n",
              "      <td>0</td>\n",
              "      <td>25</td>\n",
              "      <td>2574</td>\n",
              "      <td>399.00</td>\n",
              "      <td>13</td>\n",
              "      <td>55</td>\n",
              "      <td>0.0</td>\n",
              "      <td>13</td>\n",
              "      <td>2</td>\n",
              "      <td>13.0</td>\n",
              "      <td>5.468750</td>\n",
              "      <td>5.871094</td>\n",
              "      <td>2.150391</td>\n",
              "      <td>9.117188</td>\n",
              "      <td>4.039062</td>\n",
              "      <td>4.039062</td>\n",
              "      <td>0.0</td>\n",
              "      <td>0</td>\n",
              "    </tr>\n",
              "  </tbody>\n",
              "</table>\n",
              "</div>\n",
              "      <button class=\"colab-df-convert\" onclick=\"convertToInteractive('df-f1d9c78b-025e-4c17-a1dd-602834cfc4a3')\"\n",
              "              title=\"Convert this dataframe to an interactive table.\"\n",
              "              style=\"display:none;\">\n",
              "        \n",
              "  <svg xmlns=\"http://www.w3.org/2000/svg\" height=\"24px\"viewBox=\"0 0 24 24\"\n",
              "       width=\"24px\">\n",
              "    <path d=\"M0 0h24v24H0V0z\" fill=\"none\"/>\n",
              "    <path d=\"M18.56 5.44l.94 2.06.94-2.06 2.06-.94-2.06-.94-.94-2.06-.94 2.06-2.06.94zm-11 1L8.5 8.5l.94-2.06 2.06-.94-2.06-.94L8.5 2.5l-.94 2.06-2.06.94zm10 10l.94 2.06.94-2.06 2.06-.94-2.06-.94-.94-2.06-.94 2.06-2.06.94z\"/><path d=\"M17.41 7.96l-1.37-1.37c-.4-.4-.92-.59-1.43-.59-.52 0-1.04.2-1.43.59L10.3 9.45l-7.72 7.72c-.78.78-.78 2.05 0 2.83L4 21.41c.39.39.9.59 1.41.59.51 0 1.02-.2 1.41-.59l7.78-7.78 2.81-2.81c.8-.78.8-2.07 0-2.86zM5.41 20L4 18.59l7.72-7.72 1.47 1.35L5.41 20z\"/>\n",
              "  </svg>\n",
              "      </button>\n",
              "      \n",
              "  <style>\n",
              "    .colab-df-container {\n",
              "      display:flex;\n",
              "      flex-wrap:wrap;\n",
              "      gap: 12px;\n",
              "    }\n",
              "\n",
              "    .colab-df-convert {\n",
              "      background-color: #E8F0FE;\n",
              "      border: none;\n",
              "      border-radius: 50%;\n",
              "      cursor: pointer;\n",
              "      display: none;\n",
              "      fill: #1967D2;\n",
              "      height: 32px;\n",
              "      padding: 0 0 0 0;\n",
              "      width: 32px;\n",
              "    }\n",
              "\n",
              "    .colab-df-convert:hover {\n",
              "      background-color: #E2EBFA;\n",
              "      box-shadow: 0px 1px 2px rgba(60, 64, 67, 0.3), 0px 1px 3px 1px rgba(60, 64, 67, 0.15);\n",
              "      fill: #174EA6;\n",
              "    }\n",
              "\n",
              "    [theme=dark] .colab-df-convert {\n",
              "      background-color: #3B4455;\n",
              "      fill: #D2E3FC;\n",
              "    }\n",
              "\n",
              "    [theme=dark] .colab-df-convert:hover {\n",
              "      background-color: #434B5C;\n",
              "      box-shadow: 0px 1px 3px 1px rgba(0, 0, 0, 0.15);\n",
              "      filter: drop-shadow(0px 1px 2px rgba(0, 0, 0, 0.3));\n",
              "      fill: #FFFFFF;\n",
              "    }\n",
              "  </style>\n",
              "\n",
              "      <script>\n",
              "        const buttonEl =\n",
              "          document.querySelector('#df-f1d9c78b-025e-4c17-a1dd-602834cfc4a3 button.colab-df-convert');\n",
              "        buttonEl.style.display =\n",
              "          google.colab.kernel.accessAllowed ? 'block' : 'none';\n",
              "\n",
              "        async function convertToInteractive(key) {\n",
              "          const element = document.querySelector('#df-f1d9c78b-025e-4c17-a1dd-602834cfc4a3');\n",
              "          const dataTable =\n",
              "            await google.colab.kernel.invokeFunction('convertToInteractive',\n",
              "                                                     [key], {});\n",
              "          if (!dataTable) return;\n",
              "\n",
              "          const docLinkHtml = 'Like what you see? Visit the ' +\n",
              "            '<a target=\"_blank\" href=https://colab.research.google.com/notebooks/data_table.ipynb>data table notebook</a>'\n",
              "            + ' to learn more about interactive tables.';\n",
              "          element.innerHTML = '';\n",
              "          dataTable['output_type'] = 'display_data';\n",
              "          await google.colab.output.renderOutput(dataTable, element);\n",
              "          const docLink = document.createElement('div');\n",
              "          docLink.innerHTML = docLinkHtml;\n",
              "          element.appendChild(docLink);\n",
              "        }\n",
              "      </script>\n",
              "    </div>\n",
              "  </div>\n",
              "  "
            ],
            "text/plain": [
              "   date_block_num  shop_id  ...  duration_after_first_sale  month\n",
              "0               0       59  ...                        0.0      0\n",
              "1               0       25  ...                        0.0      0\n",
              "2               0       25  ...                        0.0      0\n",
              "3               0       25  ...                        0.0      0\n",
              "4               0       25  ...                        0.0      0\n",
              "5               0       25  ...                        0.0      0\n",
              "6               0       25  ...                        0.0      0\n",
              "7               0       25  ...                        0.0      0\n",
              "8               0       25  ...                        0.0      0\n",
              "9               0       25  ...                        0.0      0\n",
              "\n",
              "[10 rows x 18 columns]"
            ]
          },
          "metadata": {},
          "execution_count": 22
        }
      ]
    },
    {
      "cell_type": "code",
      "source": [
        "df.shape"
      ],
      "metadata": {
        "id": "nvcQx89Ilys0",
        "colab": {
          "base_uri": "https://localhost:8080/"
        },
        "outputId": "8e77dfef-4065-42ef-d296-fa5e8ebf7ace"
      },
      "execution_count": null,
      "outputs": [
        {
          "output_type": "execute_result",
          "data": {
            "text/plain": [
              "(2641554, 18)"
            ]
          },
          "metadata": {},
          "execution_count": 23
        }
      ]
    },
    {
      "cell_type": "markdown",
      "source": [
        "Создадим визуализацию в двумерном пространстве"
      ],
      "metadata": {
        "id": "dn3txylIBlMK"
      }
    },
    {
      "cell_type": "code",
      "source": [
        "df = df.fillna(0)\n",
        "X = df.copy().drop(columns=[\"item_cnt_month\", \"date_block_num\"])\n",
        "Y = df.copy().item_cnt_month\n",
        "pca = PCA(n_components=2)\n",
        "pca_model = pca.fit(X)\n",
        "pca_df = pca_model.transform(X)\n",
        "scatter(pca_df[:, 0], pca_df[:, 1], c=Y)"
      ],
      "metadata": {
        "id": "Yigu02cZ9YLk",
        "colab": {
          "base_uri": "https://localhost:8080/"
        },
        "outputId": "c67ab575-90cd-4745-fcc8-2fe0f5f69d02"
      },
      "execution_count": null,
      "outputs": [
        {
          "output_type": "execute_result",
          "data": {
            "text/plain": [
              "<matplotlib.collections.PathCollection at 0x7f83177dd050>"
            ]
          },
          "metadata": {},
          "execution_count": 24
        },
        {
          "output_type": "display_data",
          "data": {
            "image/png": "[encoded data removed]",
            "text/plain": [
              "<Figure size 432x288 with 1 Axes>"
            ]
          },
          "metadata": {
            "needs_background": "light"
          }
        }
      ]
    },
    {
      "cell_type": "code",
      "source": [
        "sns.heatmap(train.corr(), vmin=-1, vmax=1, square=True)"
      ],
      "metadata": {
        "colab": {
          "base_uri": "https://localhost:8080/"
        },
        "id": "dAUCsJ5_4gis",
        "outputId": "9ff4af77-d346-4120-a192-ae6caab7da6e"
      },
      "execution_count": null,
      "outputs": [
        {
          "output_type": "execute_result",
          "data": {
            "text/plain": [
              "<matplotlib.axes._subplots.AxesSubplot at 0x7f8317776ad0>"
            ]
          },
          "metadata": {},
          "execution_count": 25
        },
        {
          "output_type": "display_data",
          "data": {
            "image/png": "[encoded data removed]",
            "text/plain": [
              "<Figure size 432x288 with 2 Axes>"
            ]
          },
          "metadata": {
            "needs_background": "light"
          }
        }
      ]
    },
    {
      "cell_type": "markdown",
      "source": [
        "## Modeling"
      ],
      "metadata": {
        "id": "c4i1jZVklk_S"
      }
    },
    {
      "cell_type": "markdown",
      "source": [
        "### Preparation Data"
      ],
      "metadata": {
        "id": "P3I8bVIS3_8-"
      }
    },
    {
      "cell_type": "markdown",
      "source": [
        "Подготовим данные для scikit-learn и для PySpark"
      ],
      "metadata": {
        "id": "GfhiBNSsmBqa"
      }
    },
    {
      "cell_type": "code",
      "source": [
        "keep_from_month = 2  \n",
        "valid_month = 33\n",
        "\n",
        "valid = df.loc[df.date_block_num == valid_month, :]\n",
        "train = df.loc[df.date_block_num < valid_month, :]\n",
        "train = train[train.date_block_num >= keep_from_month]\n",
        "X_train = train.drop(columns=\"item_cnt_month\")\n",
        "y_train = train.item_cnt_month\n",
        "X_valid = valid.drop(columns=\"item_cnt_month\")\n",
        "y_valid = valid.item_cnt_month\n",
        "test = df.drop(columns=\"item_cnt_month\").loc[df.date_block_num == 34, :]"
      ],
      "metadata": {
        "id": "kBXN5Uu1mAtT"
      },
      "execution_count": null,
      "outputs": []
    },
    {
      "cell_type": "code",
      "source": [
        "sc = SparkContext.getOrCreate()\n",
        "sqlContext = SQLContext(sc)\n",
        "\n",
        "spark_dff = sqlContext.createDataFrame(train)"
      ],
      "metadata": {
        "id": "Ci4nKvw59ulL"
      },
      "execution_count": null,
      "outputs": []
    },
    {
      "cell_type": "code",
      "source": [
        "assembler=VectorAssembler(inputCols=list(X_train.columns),outputCol='features')\n",
        "output=assembler.transform(spark_dff)\n",
        "output.select('features','item_cnt_month').show(5)\n",
        "final_data=output.select('features','item_cnt_month')"
      ],
      "metadata": {
        "colab": {
          "base_uri": "https://localhost:8080/"
        },
        "id": "_3xBbORO9tId",
        "outputId": "4098fd6b-6418-47ef-d8cd-23d5a1568ca2"
      },
      "execution_count": null,
      "outputs": [
        {
          "output_type": "stream",
          "name": "stdout",
          "text": [
            "+--------------------+--------------+\n",
            "|            features|item_cnt_month|\n",
            "+--------------------+--------------+\n",
            "|[2.0,5.0,20175.0,...|           1.0|\n",
            "|[2.0,5.0,20083.0,...|           2.0|\n",
            "|[2.0,2.0,31.0,698...|           1.0|\n",
            "|[2.0,41.0,2437.0,...|           1.0|\n",
            "|[2.0,41.0,2417.0,...|           1.0|\n",
            "+--------------------+--------------+\n",
            "only showing top 5 rows\n",
            "\n"
          ]
        }
      ]
    },
    {
      "cell_type": "code",
      "source": [
        "spark_valid_dff = sqlContext.createDataFrame(valid)\n",
        "assembler=VectorAssembler(inputCols=list(X_valid.columns), outputCol='features')\n",
        "output=assembler.transform(spark_valid_dff)\n",
        "output.select('features').show(5)\n",
        "unlabeled_data=output.select('features')"
      ],
      "metadata": {
        "colab": {
          "base_uri": "https://localhost:8080/"
        },
        "id": "DJ_0jY8e9rnz",
        "outputId": "4f817e06-449d-4c7e-e8bf-4747544ff0b1"
      },
      "execution_count": null,
      "outputs": [
        {
          "output_type": "stream",
          "name": "stdout",
          "text": [
            "+--------------------+\n",
            "|            features|\n",
            "+--------------------+\n",
            "|[33.0,45.0,13315....|\n",
            "|[33.0,45.0,13880....|\n",
            "|[33.0,45.0,13881....|\n",
            "|[33.0,45.0,13881....|\n",
            "|[33.0,45.0,13923....|\n",
            "+--------------------+\n",
            "only showing top 5 rows\n",
            "\n"
          ]
        }
      ]
    },
    {
      "cell_type": "code",
      "source": [
        "spark_test_dff = sqlContext.createDataFrame(test)\n",
        "assembler=VectorAssembler(inputCols=list(test.columns), outputCol='features')\n",
        "output=assembler.transform(spark_test_dff)\n",
        "output.select('features').show(5)\n",
        "test_data=output.select('features')"
      ],
      "metadata": {
        "colab": {
          "base_uri": "https://localhost:8080/"
        },
        "id": "ptlqJZ069qMM",
        "outputId": "746fd02c-5ef6-4aee-ac7e-dbdae7d101e6"
      },
      "execution_count": null,
      "outputs": [
        {
          "output_type": "stream",
          "name": "stdout",
          "text": [
            "+--------------------+\n",
            "|            features|\n",
            "+--------------------+\n",
            "|(17,[0,1,2,4,5,6,...|\n",
            "|(17,[0,1,2,4,5,6,...|\n",
            "|(17,[0,1,2,4,5,6,...|\n",
            "|(17,[0,1,2,4,5,6,...|\n",
            "|(17,[0,1,2,4,5,6,...|\n",
            "+--------------------+\n",
            "only showing top 5 rows\n",
            "\n"
          ]
        }
      ]
    },
    {
      "cell_type": "markdown",
      "source": [
        "### LinearRegression with PySpark"
      ],
      "metadata": {
        "id": "JSzeFUbL0oGF"
      }
    },
    {
      "cell_type": "code",
      "source": [
        "lr = LinearRegressionSpark(featuresCol=\"features\", \n",
        "                           labelCol='item_cnt_month', \n",
        "                           maxIter=10, \n",
        "                           regParam=0.3, \n",
        "                           elasticNetParam=0.8)"
      ],
      "metadata": {
        "id": "8ygyo2JnnX9s"
      },
      "execution_count": null,
      "outputs": []
    },
    {
      "cell_type": "code",
      "source": [
        "start = time()\n",
        "trained_model = lr.fit(final_data)\n",
        "train_result = trained_model.evaluate(final_data)\n",
        "end = time()\n",
        "print('R2:', train_result.r2)\n",
        "print(f\"Time for PySpark LinearRegression {end-start}\")"
      ],
      "metadata": {
        "id": "p0hE-7-qu1h8",
        "colab": {
          "base_uri": "https://localhost:8080/"
        },
        "outputId": "d534ae71-64b7-4584-9b26-ac35661d4fb3"
      },
      "execution_count": null,
      "outputs": [
        {
          "output_type": "stream",
          "name": "stdout",
          "text": [
            "R2: 0.8974333264644969\n",
            "Time for PySpark LinearRegression 93.00017666816711\n"
          ]
        }
      ]
    },
    {
      "cell_type": "code",
      "source": [
        "predictions = trained_model.transform(unlabeled_data)\n",
        "predictions.show(5)"
      ],
      "metadata": {
        "id": "6iVYDR7VzdBn",
        "colab": {
          "base_uri": "https://localhost:8080/"
        },
        "outputId": "639b8bb4-8205-41c0-bcad-78af3fc884a6"
      },
      "execution_count": null,
      "outputs": [
        {
          "output_type": "stream",
          "name": "stdout",
          "text": [
            "+--------------------+------------------+\n",
            "|            features|        prediction|\n",
            "+--------------------+------------------+\n",
            "|[33.0,45.0,13315....|1.0342460605366157|\n",
            "|[33.0,45.0,13880....|3.0304375930331813|\n",
            "|[33.0,45.0,13881....| 1.598198186899939|\n",
            "|[33.0,45.0,13881....| 1.598198186899939|\n",
            "|[33.0,45.0,13923....|0.9965250867572311|\n",
            "+--------------------+------------------+\n",
            "only showing top 5 rows\n",
            "\n"
          ]
        }
      ]
    },
    {
      "cell_type": "code",
      "source": [
        "y_pred = predictions.select(\"prediction\").toPandas()[\"prediction\"]\n",
        "print('R2:', r2_score(y_valid, y_pred))\n",
        "print('Mean Absolute Error:', mean_absolute_error(y_valid, y_pred))\n",
        "print('Mean Squared Error:', mean_squared_error(y_valid, y_pred))\n",
        "print('Root Mean Squared Error:', np.sqrt(mean_squared_error(y_valid, y_pred)))"
      ],
      "metadata": {
        "id": "laAxcGL6z6Z3",
        "colab": {
          "base_uri": "https://localhost:8080/"
        },
        "outputId": "20e6a43e-308e-48ae-d991-3b77eb41874b"
      },
      "execution_count": null,
      "outputs": [
        {
          "output_type": "stream",
          "name": "stdout",
          "text": [
            "R2: 0.9053950180429681\n",
            "Mean Absolute Error: 0.7401779399972037\n",
            "Mean Squared Error: 2.4139065857487014\n",
            "Root Mean Squared Error: 1.553675186694021\n"
          ]
        }
      ]
    },
    {
      "cell_type": "markdown",
      "source": [
        "### LinearRegression with Sklearn"
      ],
      "metadata": {
        "id": "pILX0YoT0l2m"
      }
    },
    {
      "cell_type": "code",
      "source": [
        "reg_model = LinearRegressionSklearn()\n",
        "start = time()\n",
        "reg_model = reg_model.fit(X_train, y_train)      \n",
        "y_pred = reg_model.predict(X_valid) \n",
        "end = time()\n",
        "print(f\"Time for Sklearn LinearRegression {end-start}s\")"
      ],
      "metadata": {
        "id": "bojle9s1vCqk",
        "colab": {
          "base_uri": "https://localhost:8080/"
        },
        "outputId": "b15def02-8957-467c-be6c-79725e4bff3e"
      },
      "execution_count": null,
      "outputs": [
        {
          "output_type": "stream",
          "name": "stdout",
          "text": [
            "Time for Sklearn LinearRegression 1.492565631866455s\n"
          ]
        }
      ]
    },
    {
      "cell_type": "code",
      "source": [
        "print('R2:', r2_score(y_valid, y_pred))\n",
        "print('Mean Absolute Error:', mean_absolute_error(y_valid, y_pred))\n",
        "print('Mean Squared Error:', mean_squared_error(y_valid, y_pred))\n",
        "print('Root Mean Squared Error:', np.sqrt(mean_squared_error(y_valid, y_pred)))"
      ],
      "metadata": {
        "id": "K00Z_I4Vw3KN",
        "colab": {
          "base_uri": "https://localhost:8080/"
        },
        "outputId": "c7dbe43f-fcaa-48f2-872a-dd026f22d92a"
      },
      "execution_count": null,
      "outputs": [
        {
          "output_type": "stream",
          "name": "stdout",
          "text": [
            "R2: 0.9164326365569799\n",
            "Mean Absolute Error: 0.8110611100018469\n",
            "Mean Squared Error: 2.132274694163372\n",
            "Root Mean Squared Error: 1.4602310413641302\n"
          ]
        }
      ]
    },
    {
      "cell_type": "markdown",
      "source": [
        "### DecisionTree with PySpark"
      ],
      "metadata": {
        "id": "euiNIfqW2mK0"
      }
    },
    {
      "cell_type": "code",
      "source": [
        "decision_spark_model = DecisionTreeRegressorSpark(featuresCol=\"features\", \n",
        "                                                  labelCol='item_cnt_month', \n",
        "                                                  maxDepth=2)"
      ],
      "metadata": {
        "id": "y3ziPd1A2pJ0"
      },
      "execution_count": null,
      "outputs": []
    },
    {
      "cell_type": "code",
      "source": [
        "start = time()\n",
        "trained_model = decision_spark_model.fit(final_data)\n",
        "train_result = trained_model.evaluate(final_data)\n",
        "end = time()\n",
        "print('R2:', train_result.r2)\n",
        "print(f\"Time for PySpark LinearRegression {end-start}\")"
      ],
      "metadata": {
        "id": "q4Jcw0q7Jl7Z",
        "colab": {
          "base_uri": "https://localhost:8080/"
        },
        "outputId": "5188fde5-b984-4899-fc28-9c91ebfa2067"
      },
      "execution_count": null,
      "outputs": [
        {
          "output_type": "stream",
          "name": "stdout",
          "text": [
            "R2: 0.90212312441234\n",
            "Time for Sklearn DecisionTree 105.492565631866455s\n"
          ]
        }
      ]
    },
    {
      "cell_type": "code",
      "source": [
        "predictions = trained_model.transform(unlabeled_data)\n",
        "predictions.show(5)"
      ],
      "metadata": {
        "id": "QeQDwK4F77do"
      },
      "execution_count": null,
      "outputs": []
    },
    {
      "cell_type": "code",
      "source": [
        "y_pred = predictions.select(\"prediction\").toPandas()[\"prediction\"]\n",
        "print('R2:', r2_score(y_valid, y_pred))\n",
        "print('Mean Absolute Error:', mean_absolute_error(y_valid, y_pred))\n",
        "print('Mean Squared Error:', mean_squared_error(y_valid, y_pred))\n",
        "print('Root Mean Squared Error:', np.sqrt(mean_squared_error(y_valid, y_pred)))"
      ],
      "metadata": {
        "colab": {
          "base_uri": "https://localhost:8080/"
        },
        "id": "c2ThrK_Z2Qie",
        "outputId": "96c4941c-1101-462f-a343-dfc036d4129f"
      },
      "execution_count": null,
      "outputs": [
        {
          "output_type": "stream",
          "name": "stdout",
          "text": [
            "R2: 0.9603938597302253\n",
            "Mean Absolute Error: 0.560393857345302253\n",
            "Mean Squared Error: 2.052340369749063\n",
            "Root Mean Squared Error: 2.12363446382141559\n"
          ]
        }
      ]
    },
    {
      "cell_type": "markdown",
      "source": [
        "### DecisionTree with Sklearn"
      ],
      "metadata": {
        "id": "xUB5cn1l1YhH"
      }
    },
    {
      "cell_type": "code",
      "source": [
        "start = time()\n",
        "decision_model = DecisionTreeRegressorSklearn(random_state=0, max_depth=5)\n",
        "decision_model.fit(X_train, y_train)\n",
        "y_pred = decision_model.predict(X_valid) \n",
        "end = time()\n",
        "print(f\"Time for Sklearn DecisionTree {end-start}s\")"
      ],
      "metadata": {
        "id": "nKZdZmq012Y_",
        "colab": {
          "base_uri": "https://localhost:8080/"
        },
        "outputId": "56cbf89f-0c41-4bd4-a6c3-9e56c572ac1c"
      },
      "execution_count": null,
      "outputs": [
        {
          "output_type": "stream",
          "name": "stdout",
          "text": [
            "Time for Sklearn DecisionTree 11.172292709350586s\n"
          ]
        }
      ]
    },
    {
      "cell_type": "code",
      "source": [
        "print('R2:', r2_score(y_valid, y_pred))\n",
        "print('Mean Absolute Error:', mean_absolute_error(y_valid, y_pred))\n",
        "print('Mean Squared Error:', mean_squared_error(y_valid, y_pred))\n",
        "print('Root Mean Squared Error:', np.sqrt(mean_squared_error(y_valid, y_pred)))"
      ],
      "metadata": {
        "id": "PN83DORR2aPA",
        "colab": {
          "base_uri": "https://localhost:8080/"
        },
        "outputId": "eeecd51b-53d8-4bd2-a76c-cd50f6c2813f"
      },
      "execution_count": null,
      "outputs": [
        {
          "output_type": "stream",
          "name": "stdout",
          "text": [
            "R2: 0.9271432699489333\n",
            "Mean Absolute Error: 0.6039385773022532\n",
            "Mean Squared Error: 1.8589860369749063\n",
            "Root Mean Squared Error: 1.363446382141559\n"
          ]
        }
      ]
    },
    {
      "cell_type": "markdown",
      "source": [
        "## Result Submition"
      ],
      "metadata": {
        "id": "-9a252Y35XgI"
      }
    },
    {
      "cell_type": "code",
      "source": [
        "test = test.fillna(0)\n",
        "sales_prediction = decision_model.predict(test)\n",
        "test = pd.read_csv(PATH_TO_DATASET + \"test.csv\")\n",
        "test_result = pd.DataFrame(sales_prediction)\n",
        "test_result.columns = ['item_cnt_month']\n",
        "predict = test_result['item_cnt_month']\n",
        "sales_predict_submission = pd.DataFrame({'ID':test['ID'],'item_cnt_month':predict})\n",
        "sales_predict_submission.to_csv('submissionSklearn.csv', index=False)"
      ],
      "metadata": {
        "id": "zhmTq-od5cmV"
      },
      "execution_count": null,
      "outputs": []
    },
    {
      "cell_type": "code",
      "source": [
        "predictions = trained_model.transform(test_data)\n",
        "sales_prediction_spark = predictions.select(\"prediction\").toPandas()[\"prediction\"]\n",
        "test_result = pd.DataFrame(sales_prediction_spark)\n",
        "test_result.columns = ['item_cnt_month']\n",
        "predict = test_result['item_cnt_month']\n",
        "sales_predict_submission = pd.DataFrame({'ID':test['ID'],'item_cnt_month':predict})\n",
        "sales_predict_submission.to_csv('submissionSpark.csv', index=False)"
      ],
      "metadata": {
        "id": "--trnf2P6Dhn"
      },
      "execution_count": null,
      "outputs": []
    }
  ]
}